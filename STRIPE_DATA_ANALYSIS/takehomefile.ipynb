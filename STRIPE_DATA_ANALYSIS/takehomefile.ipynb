{
 "cells": [
  {
   "cell_type": "markdown",
   "id": "322d4b4c",
   "metadata": {
    "id": "322d4b4c"
   },
   "source": [
    "![logo.png](https://github.com/interviewquery/takehomes/blob/stripe_1/stripe_1/logo.png?raw=1)\n",
    "\n",
    "\n",
    "\n",
    "## Assignment\n",
    "\n",
    "You are leading a project to analyze product performance at Stripe. We at Stripe are most interested in how the products are performing and growing as well as how to prioritize our product development efforts to maximize our growth. You have been provided an initial cut of data on a few flagship products, each of which is targeted at a specific user segment. From the data you've been given, please prepare a short presentation detailing your findings. \n",
    "\n",
    "**Product Usage Table:**\n",
    "\n",
    "|Label| Description|\n",
    "| - | :- |  \n",
    "| `merchant` | This is the unique ID of each Stripe user |\n",
    "|`date` | Data is aggregated up to the month level for each Stripe user.|\n",
    "|`product` | This is the Stripe product that the user is using to charge their customers.|\n",
    "|`event` | This is an action within a product. For more details on how products are used, see \"segment details\" below|\n",
    "|`count of events` |       |\n",
    "|`usd_amount` |Total amount in cents and USD that was processed for that API call|\n",
    "\n",
    "**Segment Table:**\n",
    "\n",
    "This is a mapping of merchant IDs to the user segmentation we have.\n",
    "\n",
    "|Label| Description|\n",
    "| - | :- | \n",
    "|`saas`| These businesses serve SaaS products which means they primarily charge their customers on a recurring basis (usually   monthly). We want them to use our Subscriptions payments product to charge regularly on a time interval.|\n",
    "|`ecommerce` | These businesses use Stripe's shopping cart product and primarily sell physical or digital goods online. |\n",
    "|`platforms` | These users are platforms upon which other users can sign up and charge for services through the Stripe API. Examples would include ridesharing services, delivery services, etc. (e.g. Lyft, Task Rabbit, Instacart) |\n",
    "\n",
    "\n",
    "## Segment Details\n",
    "\n",
    "### SaaS\n",
    "\n",
    "SaaS users have two options when they process recurring payments. The recurring payments product allows them to schedule automatically recurring payments on a fixed schedule, but the merchants can also manually create charges on Stripe for their recurring payments. Our hope with the recurring payments product is to make it easy for all users to automate their payments. The product was launched in May 2013. \n",
    "\n",
    "### E-Commerce Store\n",
    "\n",
    "Our shopping cart product enables online e-commerce stores to sell goods. We track details on their website around the conversion funnel and actions that customers take. We can see when an item is viewed, added to the cart, when the checkout flow is initiated, and when it is completed with a payment submitted. \n",
    "\n",
    "### Platforms \n",
    "\n",
    "Our Marketplace product allows platforms to charge on behalf of other users and payout funds to each end automatically.\n",
    "\n",
    "\n",
    "\n",
    "### Questions to guide thinking:\n",
    "\n",
    "1. How are each of Stripe's products and segments performing and where are they headed?\n",
    "\n",
    "2. Are there any issues with the products that we should address?\n",
    "\n",
    "3. Given more time and access to more data, what would you want to dig deeper on?\n",
    "\n",
    "4. How should we prioritize development for different products, given our limited resources?\n",
    "\n",
    "\n"
   ]
  },
  {
   "cell_type": "code",
   "execution_count": 1,
   "id": "ff0b46df",
   "metadata": {
    "id": "ff0b46df"
   },
   "outputs": [],
   "source": [
    "# Write your code here\n",
    "\n",
    "import pandas as pd\n",
    "import numpy as np"
   ]
  },
  {
   "cell_type": "code",
   "execution_count": 2,
   "id": "70fb0752",
   "metadata": {},
   "outputs": [
    {
     "data": {
      "text/html": [
       "<div>\n",
       "<style scoped>\n",
       "    .dataframe tbody tr th:only-of-type {\n",
       "        vertical-align: middle;\n",
       "    }\n",
       "\n",
       "    .dataframe tbody tr th {\n",
       "        vertical-align: top;\n",
       "    }\n",
       "\n",
       "    .dataframe thead th {\n",
       "        text-align: right;\n",
       "    }\n",
       "</style>\n",
       "<table border=\"1\" class=\"dataframe\">\n",
       "  <thead>\n",
       "    <tr style=\"text-align: right;\">\n",
       "      <th></th>\n",
       "      <th>Merchant</th>\n",
       "      <th>Date</th>\n",
       "      <th>Product</th>\n",
       "      <th>Event</th>\n",
       "      <th>Count of events</th>\n",
       "      <th>Usd Amount</th>\n",
       "      <th>Unnamed: 6</th>\n",
       "      <th>Unnamed: 7</th>\n",
       "      <th>Unnamed: 8</th>\n",
       "      <th>Unnamed: 9</th>\n",
       "      <th>...</th>\n",
       "      <th>Unnamed: 12</th>\n",
       "      <th>Unnamed: 13</th>\n",
       "      <th>Unnamed: 14</th>\n",
       "      <th>Unnamed: 15</th>\n",
       "      <th>Unnamed: 16</th>\n",
       "      <th>Unnamed: 17</th>\n",
       "      <th>Unnamed: 18</th>\n",
       "      <th>Unnamed: 19</th>\n",
       "      <th>Unnamed: 20</th>\n",
       "      <th>Unnamed: 21</th>\n",
       "    </tr>\n",
       "  </thead>\n",
       "  <tbody>\n",
       "    <tr>\n",
       "      <th>0</th>\n",
       "      <td>282t1vpldi</td>\n",
       "      <td>01/01/2013</td>\n",
       "      <td>Basic API</td>\n",
       "      <td>Charge</td>\n",
       "      <td>33.0</td>\n",
       "      <td>329967.0</td>\n",
       "      <td>NaN</td>\n",
       "      <td>NaN</td>\n",
       "      <td>NaN</td>\n",
       "      <td>NaN</td>\n",
       "      <td>...</td>\n",
       "      <td>NaN</td>\n",
       "      <td>NaN</td>\n",
       "      <td>NaN</td>\n",
       "      <td>NaN</td>\n",
       "      <td>NaN</td>\n",
       "      <td>NaN</td>\n",
       "      <td>NaN</td>\n",
       "      <td>NaN</td>\n",
       "      <td>NaN</td>\n",
       "      <td>NaN</td>\n",
       "    </tr>\n",
       "    <tr>\n",
       "      <th>1</th>\n",
       "      <td>282t1vpldi</td>\n",
       "      <td>01/02/2013</td>\n",
       "      <td>Basic API</td>\n",
       "      <td>Charge</td>\n",
       "      <td>17.0</td>\n",
       "      <td>169983.0</td>\n",
       "      <td>NaN</td>\n",
       "      <td>NaN</td>\n",
       "      <td>NaN</td>\n",
       "      <td>NaN</td>\n",
       "      <td>...</td>\n",
       "      <td>NaN</td>\n",
       "      <td>NaN</td>\n",
       "      <td>NaN</td>\n",
       "      <td>NaN</td>\n",
       "      <td>NaN</td>\n",
       "      <td>NaN</td>\n",
       "      <td>NaN</td>\n",
       "      <td>NaN</td>\n",
       "      <td>NaN</td>\n",
       "      <td>NaN</td>\n",
       "    </tr>\n",
       "    <tr>\n",
       "      <th>2</th>\n",
       "      <td>282t1vpldi</td>\n",
       "      <td>01/03/2013</td>\n",
       "      <td>Basic API</td>\n",
       "      <td>Charge</td>\n",
       "      <td>20.0</td>\n",
       "      <td>199980.0</td>\n",
       "      <td>NaN</td>\n",
       "      <td>NaN</td>\n",
       "      <td>NaN</td>\n",
       "      <td>NaN</td>\n",
       "      <td>...</td>\n",
       "      <td>NaN</td>\n",
       "      <td>NaN</td>\n",
       "      <td>NaN</td>\n",
       "      <td>NaN</td>\n",
       "      <td>NaN</td>\n",
       "      <td>NaN</td>\n",
       "      <td>NaN</td>\n",
       "      <td>NaN</td>\n",
       "      <td>NaN</td>\n",
       "      <td>NaN</td>\n",
       "    </tr>\n",
       "    <tr>\n",
       "      <th>3</th>\n",
       "      <td>282t1vpldi</td>\n",
       "      <td>01/04/2013</td>\n",
       "      <td>Basic API</td>\n",
       "      <td>Charge</td>\n",
       "      <td>21.0</td>\n",
       "      <td>209979.0</td>\n",
       "      <td>NaN</td>\n",
       "      <td>NaN</td>\n",
       "      <td>NaN</td>\n",
       "      <td>NaN</td>\n",
       "      <td>...</td>\n",
       "      <td>NaN</td>\n",
       "      <td>NaN</td>\n",
       "      <td>NaN</td>\n",
       "      <td>NaN</td>\n",
       "      <td>NaN</td>\n",
       "      <td>NaN</td>\n",
       "      <td>NaN</td>\n",
       "      <td>NaN</td>\n",
       "      <td>NaN</td>\n",
       "      <td>NaN</td>\n",
       "    </tr>\n",
       "    <tr>\n",
       "      <th>4</th>\n",
       "      <td>282t1vpldi</td>\n",
       "      <td>01/05/2013</td>\n",
       "      <td>Recurring</td>\n",
       "      <td>Subscription.Charge</td>\n",
       "      <td>23.0</td>\n",
       "      <td>229977.0</td>\n",
       "      <td>NaN</td>\n",
       "      <td>NaN</td>\n",
       "      <td>NaN</td>\n",
       "      <td>NaN</td>\n",
       "      <td>...</td>\n",
       "      <td>NaN</td>\n",
       "      <td>NaN</td>\n",
       "      <td>NaN</td>\n",
       "      <td>NaN</td>\n",
       "      <td>NaN</td>\n",
       "      <td>NaN</td>\n",
       "      <td>NaN</td>\n",
       "      <td>NaN</td>\n",
       "      <td>NaN</td>\n",
       "      <td>NaN</td>\n",
       "    </tr>\n",
       "    <tr>\n",
       "      <th>...</th>\n",
       "      <td>...</td>\n",
       "      <td>...</td>\n",
       "      <td>...</td>\n",
       "      <td>...</td>\n",
       "      <td>...</td>\n",
       "      <td>...</td>\n",
       "      <td>...</td>\n",
       "      <td>...</td>\n",
       "      <td>...</td>\n",
       "      <td>...</td>\n",
       "      <td>...</td>\n",
       "      <td>...</td>\n",
       "      <td>...</td>\n",
       "      <td>...</td>\n",
       "      <td>...</td>\n",
       "      <td>...</td>\n",
       "      <td>...</td>\n",
       "      <td>...</td>\n",
       "      <td>...</td>\n",
       "      <td>...</td>\n",
       "      <td>...</td>\n",
       "    </tr>\n",
       "    <tr>\n",
       "      <th>1441</th>\n",
       "      <td>NaN</td>\n",
       "      <td>NaN</td>\n",
       "      <td>NaN</td>\n",
       "      <td>NaN</td>\n",
       "      <td>NaN</td>\n",
       "      <td>NaN</td>\n",
       "      <td>NaN</td>\n",
       "      <td>NaN</td>\n",
       "      <td>NaN</td>\n",
       "      <td>NaN</td>\n",
       "      <td>...</td>\n",
       "      <td>NaN</td>\n",
       "      <td>NaN</td>\n",
       "      <td>NaN</td>\n",
       "      <td>NaN</td>\n",
       "      <td>NaN</td>\n",
       "      <td>NaN</td>\n",
       "      <td>NaN</td>\n",
       "      <td>NaN</td>\n",
       "      <td>NaN</td>\n",
       "      <td>NaN</td>\n",
       "    </tr>\n",
       "    <tr>\n",
       "      <th>1442</th>\n",
       "      <td>NaN</td>\n",
       "      <td>NaN</td>\n",
       "      <td>NaN</td>\n",
       "      <td>NaN</td>\n",
       "      <td>NaN</td>\n",
       "      <td>NaN</td>\n",
       "      <td>NaN</td>\n",
       "      <td>NaN</td>\n",
       "      <td>NaN</td>\n",
       "      <td>NaN</td>\n",
       "      <td>...</td>\n",
       "      <td>NaN</td>\n",
       "      <td>NaN</td>\n",
       "      <td>NaN</td>\n",
       "      <td>NaN</td>\n",
       "      <td>NaN</td>\n",
       "      <td>NaN</td>\n",
       "      <td>NaN</td>\n",
       "      <td>NaN</td>\n",
       "      <td>NaN</td>\n",
       "      <td>NaN</td>\n",
       "    </tr>\n",
       "    <tr>\n",
       "      <th>1443</th>\n",
       "      <td>NaN</td>\n",
       "      <td>NaN</td>\n",
       "      <td>NaN</td>\n",
       "      <td>NaN</td>\n",
       "      <td>NaN</td>\n",
       "      <td>NaN</td>\n",
       "      <td>NaN</td>\n",
       "      <td>NaN</td>\n",
       "      <td>NaN</td>\n",
       "      <td>NaN</td>\n",
       "      <td>...</td>\n",
       "      <td>NaN</td>\n",
       "      <td>NaN</td>\n",
       "      <td>NaN</td>\n",
       "      <td>NaN</td>\n",
       "      <td>NaN</td>\n",
       "      <td>NaN</td>\n",
       "      <td>NaN</td>\n",
       "      <td>NaN</td>\n",
       "      <td>NaN</td>\n",
       "      <td>NaN</td>\n",
       "    </tr>\n",
       "    <tr>\n",
       "      <th>1444</th>\n",
       "      <td>NaN</td>\n",
       "      <td>NaN</td>\n",
       "      <td>NaN</td>\n",
       "      <td>NaN</td>\n",
       "      <td>NaN</td>\n",
       "      <td>NaN</td>\n",
       "      <td>NaN</td>\n",
       "      <td>NaN</td>\n",
       "      <td>NaN</td>\n",
       "      <td>NaN</td>\n",
       "      <td>...</td>\n",
       "      <td>NaN</td>\n",
       "      <td>NaN</td>\n",
       "      <td>NaN</td>\n",
       "      <td>NaN</td>\n",
       "      <td>NaN</td>\n",
       "      <td>NaN</td>\n",
       "      <td>NaN</td>\n",
       "      <td>NaN</td>\n",
       "      <td>NaN</td>\n",
       "      <td>NaN</td>\n",
       "    </tr>\n",
       "    <tr>\n",
       "      <th>1445</th>\n",
       "      <td>NaN</td>\n",
       "      <td>NaN</td>\n",
       "      <td>NaN</td>\n",
       "      <td>NaN</td>\n",
       "      <td>NaN</td>\n",
       "      <td>NaN</td>\n",
       "      <td>NaN</td>\n",
       "      <td>NaN</td>\n",
       "      <td>NaN</td>\n",
       "      <td>NaN</td>\n",
       "      <td>...</td>\n",
       "      <td>NaN</td>\n",
       "      <td>NaN</td>\n",
       "      <td>NaN</td>\n",
       "      <td>NaN</td>\n",
       "      <td>NaN</td>\n",
       "      <td>NaN</td>\n",
       "      <td>NaN</td>\n",
       "      <td>NaN</td>\n",
       "      <td>NaN</td>\n",
       "      <td>NaN</td>\n",
       "    </tr>\n",
       "  </tbody>\n",
       "</table>\n",
       "<p>1446 rows × 22 columns</p>\n",
       "</div>"
      ],
      "text/plain": [
       "        Merchant        Date    Product                Event  Count of events  \\\n",
       "0     282t1vpldi  01/01/2013  Basic API               Charge             33.0   \n",
       "1     282t1vpldi  01/02/2013  Basic API               Charge             17.0   \n",
       "2     282t1vpldi  01/03/2013  Basic API               Charge             20.0   \n",
       "3     282t1vpldi  01/04/2013  Basic API               Charge             21.0   \n",
       "4     282t1vpldi  01/05/2013  Recurring  Subscription.Charge             23.0   \n",
       "...          ...         ...        ...                  ...              ...   \n",
       "1441         NaN         NaN        NaN                  NaN              NaN   \n",
       "1442         NaN         NaN        NaN                  NaN              NaN   \n",
       "1443         NaN         NaN        NaN                  NaN              NaN   \n",
       "1444         NaN         NaN        NaN                  NaN              NaN   \n",
       "1445         NaN         NaN        NaN                  NaN              NaN   \n",
       "\n",
       "      Usd Amount  Unnamed: 6  Unnamed: 7  Unnamed: 8  Unnamed: 9  ...  \\\n",
       "0       329967.0         NaN         NaN         NaN         NaN  ...   \n",
       "1       169983.0         NaN         NaN         NaN         NaN  ...   \n",
       "2       199980.0         NaN         NaN         NaN         NaN  ...   \n",
       "3       209979.0         NaN         NaN         NaN         NaN  ...   \n",
       "4       229977.0         NaN         NaN         NaN         NaN  ...   \n",
       "...          ...         ...         ...         ...         ...  ...   \n",
       "1441         NaN         NaN         NaN         NaN         NaN  ...   \n",
       "1442         NaN         NaN         NaN         NaN         NaN  ...   \n",
       "1443         NaN         NaN         NaN         NaN         NaN  ...   \n",
       "1444         NaN         NaN         NaN         NaN         NaN  ...   \n",
       "1445         NaN         NaN         NaN         NaN         NaN  ...   \n",
       "\n",
       "      Unnamed: 12  Unnamed: 13  Unnamed: 14  Unnamed: 15  Unnamed: 16  \\\n",
       "0             NaN          NaN          NaN          NaN          NaN   \n",
       "1             NaN          NaN          NaN          NaN          NaN   \n",
       "2             NaN          NaN          NaN          NaN          NaN   \n",
       "3             NaN          NaN          NaN          NaN          NaN   \n",
       "4             NaN          NaN          NaN          NaN          NaN   \n",
       "...           ...          ...          ...          ...          ...   \n",
       "1441          NaN          NaN          NaN          NaN          NaN   \n",
       "1442          NaN          NaN          NaN          NaN          NaN   \n",
       "1443          NaN          NaN          NaN          NaN          NaN   \n",
       "1444          NaN          NaN          NaN          NaN          NaN   \n",
       "1445          NaN          NaN          NaN          NaN          NaN   \n",
       "\n",
       "      Unnamed: 17  Unnamed: 18  Unnamed: 19  Unnamed: 20  Unnamed: 21  \n",
       "0             NaN          NaN          NaN          NaN          NaN  \n",
       "1             NaN          NaN          NaN          NaN          NaN  \n",
       "2             NaN          NaN          NaN          NaN          NaN  \n",
       "3             NaN          NaN          NaN          NaN          NaN  \n",
       "4             NaN          NaN          NaN          NaN          NaN  \n",
       "...           ...          ...          ...          ...          ...  \n",
       "1441          NaN          NaN          NaN          NaN          NaN  \n",
       "1442          NaN          NaN          NaN          NaN          NaN  \n",
       "1443          NaN          NaN          NaN          NaN          NaN  \n",
       "1444          NaN          NaN          NaN          NaN          NaN  \n",
       "1445          NaN          NaN          NaN          NaN          NaN  \n",
       "\n",
       "[1446 rows x 22 columns]"
      ]
     },
     "execution_count": 2,
     "metadata": {},
     "output_type": "execute_result"
    }
   ],
   "source": [
    "df1=pd.read_csv(\"product_usage.csv\")\n",
    "df1"
   ]
  },
  {
   "cell_type": "code",
   "execution_count": 4,
   "id": "39aeb0b3",
   "metadata": {},
   "outputs": [
    {
     "data": {
      "text/html": [
       "<div>\n",
       "<style scoped>\n",
       "    .dataframe tbody tr th:only-of-type {\n",
       "        vertical-align: middle;\n",
       "    }\n",
       "\n",
       "    .dataframe tbody tr th {\n",
       "        vertical-align: top;\n",
       "    }\n",
       "\n",
       "    .dataframe thead th {\n",
       "        text-align: right;\n",
       "    }\n",
       "</style>\n",
       "<table border=\"1\" class=\"dataframe\">\n",
       "  <thead>\n",
       "    <tr style=\"text-align: right;\">\n",
       "      <th></th>\n",
       "      <th>Merchant</th>\n",
       "      <th>Segment</th>\n",
       "    </tr>\n",
       "  </thead>\n",
       "  <tbody>\n",
       "    <tr>\n",
       "      <th>0</th>\n",
       "      <td>282t1vpldi</td>\n",
       "      <td>SaaS</td>\n",
       "    </tr>\n",
       "    <tr>\n",
       "      <th>1</th>\n",
       "      <td>2x5fpa2a9k9</td>\n",
       "      <td>SaaS</td>\n",
       "    </tr>\n",
       "    <tr>\n",
       "      <th>2</th>\n",
       "      <td>39rrckrzfr</td>\n",
       "      <td>SaaS</td>\n",
       "    </tr>\n",
       "    <tr>\n",
       "      <th>3</th>\n",
       "      <td>3r5r60f6r</td>\n",
       "      <td>Platform</td>\n",
       "    </tr>\n",
       "    <tr>\n",
       "      <th>4</th>\n",
       "      <td>4p36czyqfr</td>\n",
       "      <td>Platform</td>\n",
       "    </tr>\n",
       "    <tr>\n",
       "      <th>5</th>\n",
       "      <td>50zxrqc9pb9</td>\n",
       "      <td>Platform</td>\n",
       "    </tr>\n",
       "    <tr>\n",
       "      <th>6</th>\n",
       "      <td>5ellnhilik9</td>\n",
       "      <td>SaaS</td>\n",
       "    </tr>\n",
       "    <tr>\n",
       "      <th>7</th>\n",
       "      <td>8kkxv1xxbt9</td>\n",
       "      <td>E-Commerce Store</td>\n",
       "    </tr>\n",
       "    <tr>\n",
       "      <th>8</th>\n",
       "      <td>9vd51p2e29</td>\n",
       "      <td>E-Commerce Store</td>\n",
       "    </tr>\n",
       "    <tr>\n",
       "      <th>9</th>\n",
       "      <td>a9jszcl3di</td>\n",
       "      <td>E-Commerce Store</td>\n",
       "    </tr>\n",
       "    <tr>\n",
       "      <th>10</th>\n",
       "      <td>awzc15rk9</td>\n",
       "      <td>SaaS</td>\n",
       "    </tr>\n",
       "    <tr>\n",
       "      <th>11</th>\n",
       "      <td>c5dxqolxr</td>\n",
       "      <td>E-Commerce Store</td>\n",
       "    </tr>\n",
       "    <tr>\n",
       "      <th>12</th>\n",
       "      <td>ctow2fenrk9</td>\n",
       "      <td>SaaS</td>\n",
       "    </tr>\n",
       "    <tr>\n",
       "      <th>13</th>\n",
       "      <td>fix7e4xtj4i</td>\n",
       "      <td>E-Commerce Store</td>\n",
       "    </tr>\n",
       "    <tr>\n",
       "      <th>14</th>\n",
       "      <td>gtey5htzkt9</td>\n",
       "      <td>SaaS</td>\n",
       "    </tr>\n",
       "    <tr>\n",
       "      <th>15</th>\n",
       "      <td>hkw5486w29</td>\n",
       "      <td>Platform</td>\n",
       "    </tr>\n",
       "    <tr>\n",
       "      <th>16</th>\n",
       "      <td>hu22wwpcik9</td>\n",
       "      <td>Platform</td>\n",
       "    </tr>\n",
       "    <tr>\n",
       "      <th>17</th>\n",
       "      <td>jrb04vuc8fr</td>\n",
       "      <td>SaaS</td>\n",
       "    </tr>\n",
       "    <tr>\n",
       "      <th>18</th>\n",
       "      <td>jstcqq9qkt9</td>\n",
       "      <td>SaaS</td>\n",
       "    </tr>\n",
       "    <tr>\n",
       "      <th>19</th>\n",
       "      <td>lv6bu51att9</td>\n",
       "      <td>SaaS</td>\n",
       "    </tr>\n",
       "    <tr>\n",
       "      <th>20</th>\n",
       "      <td>m6jyvblc8fr</td>\n",
       "      <td>SaaS</td>\n",
       "    </tr>\n",
       "    <tr>\n",
       "      <th>21</th>\n",
       "      <td>nsoxg9fi529</td>\n",
       "      <td>E-Commerce Store</td>\n",
       "    </tr>\n",
       "    <tr>\n",
       "      <th>22</th>\n",
       "      <td>obpa1e89f6r</td>\n",
       "      <td>Platform</td>\n",
       "    </tr>\n",
       "    <tr>\n",
       "      <th>23</th>\n",
       "      <td>q5o0270t3xr</td>\n",
       "      <td>Platform</td>\n",
       "    </tr>\n",
       "    <tr>\n",
       "      <th>24</th>\n",
       "      <td>r1aca4z33di</td>\n",
       "      <td>Platform</td>\n",
       "    </tr>\n",
       "    <tr>\n",
       "      <th>25</th>\n",
       "      <td>rczsldz33di</td>\n",
       "      <td>E-Commerce Store</td>\n",
       "    </tr>\n",
       "    <tr>\n",
       "      <th>26</th>\n",
       "      <td>tgiaz41jor</td>\n",
       "      <td>E-Commerce Store</td>\n",
       "    </tr>\n",
       "    <tr>\n",
       "      <th>27</th>\n",
       "      <td>u9nzlgqr529</td>\n",
       "      <td>Platform</td>\n",
       "    </tr>\n",
       "    <tr>\n",
       "      <th>28</th>\n",
       "      <td>w1x4pumobt9</td>\n",
       "      <td>E-Commerce Store</td>\n",
       "    </tr>\n",
       "    <tr>\n",
       "      <th>29</th>\n",
       "      <td>wtnlnqrrudi</td>\n",
       "      <td>E-Commerce Store</td>\n",
       "    </tr>\n",
       "    <tr>\n",
       "      <th>30</th>\n",
       "      <td>wzimmlvj9k9</td>\n",
       "      <td>E-Commerce Store</td>\n",
       "    </tr>\n",
       "    <tr>\n",
       "      <th>31</th>\n",
       "      <td>yadjx8estt9</td>\n",
       "      <td>E-Commerce Store</td>\n",
       "    </tr>\n",
       "    <tr>\n",
       "      <th>32</th>\n",
       "      <td>zz8yi2lz0k9</td>\n",
       "      <td>E-Commerce Store</td>\n",
       "    </tr>\n",
       "  </tbody>\n",
       "</table>\n",
       "</div>"
      ],
      "text/plain": [
       "       Merchant           Segment\n",
       "0    282t1vpldi              SaaS\n",
       "1   2x5fpa2a9k9              SaaS\n",
       "2    39rrckrzfr              SaaS\n",
       "3     3r5r60f6r          Platform\n",
       "4    4p36czyqfr          Platform\n",
       "5   50zxrqc9pb9          Platform\n",
       "6   5ellnhilik9              SaaS\n",
       "7   8kkxv1xxbt9  E-Commerce Store\n",
       "8    9vd51p2e29  E-Commerce Store\n",
       "9    a9jszcl3di  E-Commerce Store\n",
       "10    awzc15rk9              SaaS\n",
       "11    c5dxqolxr  E-Commerce Store\n",
       "12  ctow2fenrk9              SaaS\n",
       "13  fix7e4xtj4i  E-Commerce Store\n",
       "14  gtey5htzkt9              SaaS\n",
       "15   hkw5486w29          Platform\n",
       "16  hu22wwpcik9          Platform\n",
       "17  jrb04vuc8fr              SaaS\n",
       "18  jstcqq9qkt9              SaaS\n",
       "19  lv6bu51att9              SaaS\n",
       "20  m6jyvblc8fr              SaaS\n",
       "21  nsoxg9fi529  E-Commerce Store\n",
       "22  obpa1e89f6r          Platform\n",
       "23  q5o0270t3xr          Platform\n",
       "24  r1aca4z33di          Platform\n",
       "25  rczsldz33di  E-Commerce Store\n",
       "26   tgiaz41jor  E-Commerce Store\n",
       "27  u9nzlgqr529          Platform\n",
       "28  w1x4pumobt9  E-Commerce Store\n",
       "29  wtnlnqrrudi  E-Commerce Store\n",
       "30  wzimmlvj9k9  E-Commerce Store\n",
       "31  yadjx8estt9  E-Commerce Store\n",
       "32  zz8yi2lz0k9  E-Commerce Store"
      ]
     },
     "execution_count": 4,
     "metadata": {},
     "output_type": "execute_result"
    }
   ],
   "source": [
    "df2=pd.read_csv(\"segmentation.csv\")\n",
    "df2"
   ]
  },
  {
   "cell_type": "code",
   "execution_count": 5,
   "id": "fee4d131",
   "metadata": {},
   "outputs": [
    {
     "data": {
      "text/plain": [
       "Index(['Merchant', 'Date', 'Product', 'Event', 'Count of events', 'Usd Amount',\n",
       "       'Unnamed: 6', 'Unnamed: 7', 'Unnamed: 8', 'Unnamed: 9', 'Unnamed: 10',\n",
       "       'Unnamed: 11', 'Unnamed: 12', 'Unnamed: 13', 'Unnamed: 14',\n",
       "       'Unnamed: 15', 'Unnamed: 16', 'Unnamed: 17', 'Unnamed: 18',\n",
       "       'Unnamed: 19', 'Unnamed: 20', 'Unnamed: 21'],\n",
       "      dtype='object')"
      ]
     },
     "execution_count": 5,
     "metadata": {},
     "output_type": "execute_result"
    }
   ],
   "source": [
    "df1.columns"
   ]
  },
  {
   "cell_type": "code",
   "execution_count": 6,
   "id": "42d80e5b",
   "metadata": {},
   "outputs": [
    {
     "name": "stdout",
     "output_type": "stream",
     "text": [
      "<class 'pandas.core.frame.DataFrame'>\n",
      "RangeIndex: 1446 entries, 0 to 1445\n",
      "Data columns (total 22 columns):\n",
      " #   Column           Non-Null Count  Dtype  \n",
      "---  ------           --------------  -----  \n",
      " 0   Merchant         1252 non-null   object \n",
      " 1   Date             1252 non-null   object \n",
      " 2   Product          1252 non-null   object \n",
      " 3   Event            1252 non-null   object \n",
      " 4   Count of events  1252 non-null   float64\n",
      " 5   Usd Amount       598 non-null    float64\n",
      " 6   Unnamed: 6       0 non-null      float64\n",
      " 7   Unnamed: 7       0 non-null      float64\n",
      " 8   Unnamed: 8       0 non-null      float64\n",
      " 9   Unnamed: 9       0 non-null      float64\n",
      " 10  Unnamed: 10      0 non-null      float64\n",
      " 11  Unnamed: 11      0 non-null      float64\n",
      " 12  Unnamed: 12      0 non-null      float64\n",
      " 13  Unnamed: 13      0 non-null      float64\n",
      " 14  Unnamed: 14      0 non-null      float64\n",
      " 15  Unnamed: 15      0 non-null      float64\n",
      " 16  Unnamed: 16      0 non-null      float64\n",
      " 17  Unnamed: 17      0 non-null      float64\n",
      " 18  Unnamed: 18      0 non-null      float64\n",
      " 19  Unnamed: 19      0 non-null      float64\n",
      " 20  Unnamed: 20      0 non-null      float64\n",
      " 21  Unnamed: 21      0 non-null      float64\n",
      "dtypes: float64(18), object(4)\n",
      "memory usage: 248.7+ KB\n"
     ]
    }
   ],
   "source": [
    "df1.info()"
   ]
  },
  {
   "cell_type": "markdown",
   "id": "58ade268",
   "metadata": {},
   "source": [
    "Handling missing values"
   ]
  },
  {
   "cell_type": "code",
   "execution_count": 7,
   "id": "c7281aeb",
   "metadata": {},
   "outputs": [],
   "source": [
    "#data contains Missing values of unnamed columns which are not useful ,remove them\n",
    "\n",
    "df1=df1.drop(columns=['Unnamed: 6', 'Unnamed: 7', 'Unnamed: 8', 'Unnamed: 9', 'Unnamed: 10',\n",
    "       'Unnamed: 11', 'Unnamed: 12', 'Unnamed: 13', 'Unnamed: 14',\n",
    "       'Unnamed: 15', 'Unnamed: 16', 'Unnamed: 17', 'Unnamed: 18',\n",
    "       'Unnamed: 19', 'Unnamed: 20', 'Unnamed: 21'],axis=1)"
   ]
  },
  {
   "cell_type": "code",
   "execution_count": 9,
   "id": "7df5662d",
   "metadata": {},
   "outputs": [
    {
     "data": {
      "text/html": [
       "<div>\n",
       "<style scoped>\n",
       "    .dataframe tbody tr th:only-of-type {\n",
       "        vertical-align: middle;\n",
       "    }\n",
       "\n",
       "    .dataframe tbody tr th {\n",
       "        vertical-align: top;\n",
       "    }\n",
       "\n",
       "    .dataframe thead th {\n",
       "        text-align: right;\n",
       "    }\n",
       "</style>\n",
       "<table border=\"1\" class=\"dataframe\">\n",
       "  <thead>\n",
       "    <tr style=\"text-align: right;\">\n",
       "      <th></th>\n",
       "      <th>Merchant</th>\n",
       "      <th>Date</th>\n",
       "      <th>Product</th>\n",
       "      <th>Event</th>\n",
       "      <th>Count of events</th>\n",
       "      <th>Usd Amount</th>\n",
       "    </tr>\n",
       "  </thead>\n",
       "  <tbody>\n",
       "    <tr>\n",
       "      <th>0</th>\n",
       "      <td>282t1vpldi</td>\n",
       "      <td>01/01/2013</td>\n",
       "      <td>Basic API</td>\n",
       "      <td>Charge</td>\n",
       "      <td>33.0</td>\n",
       "      <td>329967.0</td>\n",
       "    </tr>\n",
       "    <tr>\n",
       "      <th>1</th>\n",
       "      <td>282t1vpldi</td>\n",
       "      <td>01/02/2013</td>\n",
       "      <td>Basic API</td>\n",
       "      <td>Charge</td>\n",
       "      <td>17.0</td>\n",
       "      <td>169983.0</td>\n",
       "    </tr>\n",
       "    <tr>\n",
       "      <th>2</th>\n",
       "      <td>282t1vpldi</td>\n",
       "      <td>01/03/2013</td>\n",
       "      <td>Basic API</td>\n",
       "      <td>Charge</td>\n",
       "      <td>20.0</td>\n",
       "      <td>199980.0</td>\n",
       "    </tr>\n",
       "    <tr>\n",
       "      <th>3</th>\n",
       "      <td>282t1vpldi</td>\n",
       "      <td>01/04/2013</td>\n",
       "      <td>Basic API</td>\n",
       "      <td>Charge</td>\n",
       "      <td>21.0</td>\n",
       "      <td>209979.0</td>\n",
       "    </tr>\n",
       "    <tr>\n",
       "      <th>4</th>\n",
       "      <td>282t1vpldi</td>\n",
       "      <td>01/05/2013</td>\n",
       "      <td>Recurring</td>\n",
       "      <td>Subscription.Charge</td>\n",
       "      <td>23.0</td>\n",
       "      <td>229977.0</td>\n",
       "    </tr>\n",
       "  </tbody>\n",
       "</table>\n",
       "</div>"
      ],
      "text/plain": [
       "     Merchant        Date    Product                Event  Count of events  \\\n",
       "0  282t1vpldi  01/01/2013  Basic API               Charge             33.0   \n",
       "1  282t1vpldi  01/02/2013  Basic API               Charge             17.0   \n",
       "2  282t1vpldi  01/03/2013  Basic API               Charge             20.0   \n",
       "3  282t1vpldi  01/04/2013  Basic API               Charge             21.0   \n",
       "4  282t1vpldi  01/05/2013  Recurring  Subscription.Charge             23.0   \n",
       "\n",
       "   Usd Amount  \n",
       "0    329967.0  \n",
       "1    169983.0  \n",
       "2    199980.0  \n",
       "3    209979.0  \n",
       "4    229977.0  "
      ]
     },
     "execution_count": 9,
     "metadata": {},
     "output_type": "execute_result"
    }
   ],
   "source": [
    "df1.head()"
   ]
  },
  {
   "cell_type": "code",
   "execution_count": 10,
   "id": "6fe8463f",
   "metadata": {},
   "outputs": [
    {
     "data": {
      "text/plain": [
       "(1446, 6)"
      ]
     },
     "execution_count": 10,
     "metadata": {},
     "output_type": "execute_result"
    }
   ],
   "source": [
    "df1.shape"
   ]
  },
  {
   "cell_type": "code",
   "execution_count": 11,
   "id": "450b2d56",
   "metadata": {},
   "outputs": [
    {
     "data": {
      "text/plain": [
       "Merchant           194\n",
       "Date               194\n",
       "Product            194\n",
       "Event              194\n",
       "Count of events    194\n",
       "Usd Amount         848\n",
       "dtype: int64"
      ]
     },
     "execution_count": 11,
     "metadata": {},
     "output_type": "execute_result"
    }
   ],
   "source": [
    "df1.isnull().sum()"
   ]
  },
  {
   "cell_type": "code",
   "execution_count": 30,
   "id": "9ccfcd66",
   "metadata": {},
   "outputs": [
    {
     "data": {
      "text/plain": [
       "'nsoxg9fi529'"
      ]
     },
     "execution_count": 30,
     "metadata": {},
     "output_type": "execute_result"
    }
   ],
   "source": [
    "#Replace Missing values with appropriate values\n",
    "# it is categorical replace it with mode \n",
    "\n",
    "mode_value = df1['Merchant'].mode()[0]\n",
    "mode_value"
   ]
  },
  {
   "cell_type": "code",
   "execution_count": 31,
   "id": "b6f05ab4",
   "metadata": {},
   "outputs": [],
   "source": [
    "# Replace the missing values with the first mode value\n",
    "\n",
    "df1['Merchant'] = df1['Merchant'].fillna(mode_value)"
   ]
  },
  {
   "cell_type": "code",
   "execution_count": 32,
   "id": "97dc0d79",
   "metadata": {},
   "outputs": [
    {
     "data": {
      "text/plain": [
       "Merchant             0\n",
       "Date               194\n",
       "Product            194\n",
       "Event              194\n",
       "Count of events    194\n",
       "Usd Amount         848\n",
       "dtype: int64"
      ]
     },
     "execution_count": 32,
     "metadata": {},
     "output_type": "execute_result"
    }
   ],
   "source": [
    "df1.isnull().sum()"
   ]
  },
  {
   "cell_type": "code",
   "execution_count": 33,
   "id": "9d6262b4",
   "metadata": {},
   "outputs": [],
   "source": [
    "# replace product with most occured value\n",
    "\n",
    "mode_value = df1['Product'].mode()[0]\n",
    "df1['Product'] = df1['Product'].fillna(mode_value)"
   ]
  },
  {
   "cell_type": "code",
   "execution_count": 34,
   "id": "cd6ba80f",
   "metadata": {},
   "outputs": [
    {
     "data": {
      "text/plain": [
       "Merchant             0\n",
       "Date               194\n",
       "Product              0\n",
       "Event              194\n",
       "Count of events    194\n",
       "Usd Amount         848\n",
       "dtype: int64"
      ]
     },
     "execution_count": 34,
     "metadata": {},
     "output_type": "execute_result"
    }
   ],
   "source": [
    "df1.isnull().sum()"
   ]
  },
  {
   "cell_type": "code",
   "execution_count": 35,
   "id": "209c82bf",
   "metadata": {},
   "outputs": [],
   "source": [
    "# replace events \n",
    "\n",
    "mode_value = df1['Event'].mode()[0]\n",
    "df1['Event'] = df1['Event'].fillna(mode_value)"
   ]
  },
  {
   "cell_type": "code",
   "execution_count": 36,
   "id": "7c6ddd1c",
   "metadata": {},
   "outputs": [
    {
     "data": {
      "text/plain": [
       "Merchant             0\n",
       "Date               194\n",
       "Product              0\n",
       "Event                0\n",
       "Count of events    194\n",
       "Usd Amount         848\n",
       "dtype: int64"
      ]
     },
     "execution_count": 36,
     "metadata": {},
     "output_type": "execute_result"
    }
   ],
   "source": [
    "df1.isnull().sum()"
   ]
  },
  {
   "cell_type": "code",
   "execution_count": 39,
   "id": "217a3adc",
   "metadata": {},
   "outputs": [
    {
     "data": {
      "text/plain": [
       "<AxesSubplot:>"
      ]
     },
     "execution_count": 39,
     "metadata": {},
     "output_type": "execute_result"
    },
    {
     "data": {
      "image/png": "[encoded data removed]",
      "text/plain": [
       "<Figure size 432x288 with 1 Axes>"
      ]
     },
     "metadata": {
      "needs_background": "light"
     },
     "output_type": "display_data"
    }
   ],
   "source": [
    "df1['Count of events'].plot(kind='box')"
   ]
  },
  {
   "cell_type": "code",
   "execution_count": 43,
   "id": "281985b6",
   "metadata": {},
   "outputs": [],
   "source": [
    "# count of events have outliers so we have to replace it with median\n",
    "\n",
    "median_val=df1['Count of events'].median()\n",
    "df1['Count of events'] = df1['Count of events'].fillna(median_val)"
   ]
  },
  {
   "cell_type": "code",
   "execution_count": 44,
   "id": "6b34a064",
   "metadata": {},
   "outputs": [
    {
     "data": {
      "text/plain": [
       "Merchant             0\n",
       "Date               194\n",
       "Product              0\n",
       "Event                0\n",
       "Count of events      0\n",
       "Usd Amount         848\n",
       "dtype: int64"
      ]
     },
     "execution_count": 44,
     "metadata": {},
     "output_type": "execute_result"
    }
   ],
   "source": [
    "df1.isnull().sum()"
   ]
  },
  {
   "cell_type": "code",
   "execution_count": 55,
   "id": "bb31b739",
   "metadata": {},
   "outputs": [],
   "source": [
    "# convert date column to datetime format\n",
    "\n",
    "df1['Date'] = pd.to_datetime(df1['Date'])"
   ]
  },
  {
   "cell_type": "code",
   "execution_count": 56,
   "id": "06eb541a",
   "metadata": {},
   "outputs": [
    {
     "name": "stdout",
     "output_type": "stream",
     "text": [
      "<class 'pandas.core.frame.DataFrame'>\n",
      "RangeIndex: 1446 entries, 0 to 1445\n",
      "Data columns (total 6 columns):\n",
      " #   Column           Non-Null Count  Dtype         \n",
      "---  ------           --------------  -----         \n",
      " 0   Merchant         1446 non-null   object        \n",
      " 1   Date             1252 non-null   datetime64[ns]\n",
      " 2   Product          1446 non-null   object        \n",
      " 3   Event            1446 non-null   object        \n",
      " 4   Count of events  1446 non-null   float64       \n",
      " 5   Usd Amount       598 non-null    float64       \n",
      "dtypes: datetime64[ns](1), float64(2), object(3)\n",
      "memory usage: 67.9+ KB\n"
     ]
    }
   ],
   "source": [
    "df1.info()"
   ]
  },
  {
   "cell_type": "code",
   "execution_count": 57,
   "id": "5f6c6e8d",
   "metadata": {},
   "outputs": [],
   "source": [
    "# replace data column with appropriate value\n",
    "\n",
    "df1['Date'] = df1['Date'].interpolate()"
   ]
  },
  {
   "cell_type": "code",
   "execution_count": 59,
   "id": "51920464",
   "metadata": {},
   "outputs": [
    {
     "data": {
      "text/plain": [
       "Merchant             0\n",
       "Date               194\n",
       "Product              0\n",
       "Event                0\n",
       "Count of events      0\n",
       "Usd Amount         848\n",
       "dtype: int64"
      ]
     },
     "execution_count": 59,
     "metadata": {},
     "output_type": "execute_result"
    }
   ],
   "source": [
    "df1.isnull().sum()"
   ]
  },
  {
   "cell_type": "code",
   "execution_count": 69,
   "id": "9fbfd657",
   "metadata": {},
   "outputs": [],
   "source": [
    "df1.dropna(subset=['Date'], inplace=True)"
   ]
  },
  {
   "cell_type": "code",
   "execution_count": 70,
   "id": "4eef004c",
   "metadata": {},
   "outputs": [
    {
     "data": {
      "text/plain": [
       "Merchant             0\n",
       "Date                 0\n",
       "Product              0\n",
       "Event                0\n",
       "Count of events      0\n",
       "Usd Amount         654\n",
       "dtype: int64"
      ]
     },
     "execution_count": 70,
     "metadata": {},
     "output_type": "execute_result"
    }
   ],
   "source": [
    "df1.isnull().sum()"
   ]
  },
  {
   "cell_type": "code",
   "execution_count": 74,
   "id": "42a0c68f",
   "metadata": {},
   "outputs": [
    {
     "data": {
      "text/plain": [
       "<AxesSubplot:>"
      ]
     },
     "execution_count": 74,
     "metadata": {},
     "output_type": "execute_result"
    },
    {
     "data": {
      "image/png": "[encoded data removed]",
      "text/plain": [
       "<Figure size 432x288 with 1 Axes>"
      ]
     },
     "metadata": {
      "needs_background": "light"
     },
     "output_type": "display_data"
    }
   ],
   "source": [
    "# replace usd amount missing values\n",
    "\n",
    "df1['Usd Amount'].plot(kind='box')"
   ]
  },
  {
   "cell_type": "code",
   "execution_count": 75,
   "id": "38ad05f4",
   "metadata": {},
   "outputs": [],
   "source": [
    "# it has outliers replace it with median\n",
    "\n",
    "median_val=df1['Usd Amount'].median()\n",
    "df1['Usd Amount'] = df1['Usd Amount'].fillna(median_val)"
   ]
  },
  {
   "cell_type": "code",
   "execution_count": 76,
   "id": "a69832c1",
   "metadata": {},
   "outputs": [
    {
     "data": {
      "text/plain": [
       "Merchant           0\n",
       "Date               0\n",
       "Product            0\n",
       "Event              0\n",
       "Count of events    0\n",
       "Usd Amount         0\n",
       "dtype: int64"
      ]
     },
     "execution_count": 76,
     "metadata": {},
     "output_type": "execute_result"
    }
   ],
   "source": [
    "df1.isnull().sum()"
   ]
  },
  {
   "cell_type": "code",
   "execution_count": 77,
   "id": "d3128818",
   "metadata": {},
   "outputs": [
    {
     "name": "stdout",
     "output_type": "stream",
     "text": [
      "<class 'pandas.core.frame.DataFrame'>\n",
      "RangeIndex: 33 entries, 0 to 32\n",
      "Data columns (total 2 columns):\n",
      " #   Column    Non-Null Count  Dtype \n",
      "---  ------    --------------  ----- \n",
      " 0   Merchant  33 non-null     object\n",
      " 1   Segment   33 non-null     object\n",
      "dtypes: object(2)\n",
      "memory usage: 656.0+ bytes\n"
     ]
    }
   ],
   "source": [
    "df2.info()"
   ]
  },
  {
   "cell_type": "code",
   "execution_count": 79,
   "id": "cf494fd7",
   "metadata": {},
   "outputs": [
    {
     "data": {
      "text/plain": [
       "array(['SaaS', 'Platform', 'E-Commerce Store'], dtype=object)"
      ]
     },
     "execution_count": 79,
     "metadata": {},
     "output_type": "execute_result"
    }
   ],
   "source": [
    "df2['Segment'].unique()"
   ]
  },
  {
   "cell_type": "code",
   "execution_count": 83,
   "id": "ec44f2a1",
   "metadata": {},
   "outputs": [
    {
     "data": {
      "text/plain": [
       "<AxesSubplot:>"
      ]
     },
     "execution_count": 83,
     "metadata": {},
     "output_type": "execute_result"
    },
    {
     "data": {
      "image/png": "[encoded data removed]",
      "text/plain": [
       "<Figure size 432x288 with 1 Axes>"
      ]
     },
     "metadata": {
      "needs_background": "light"
     },
     "output_type": "display_data"
    }
   ],
   "source": [
    "df2['Segment'].value_counts().plot(kind='bar')"
   ]
  },
  {
   "cell_type": "code",
   "execution_count": 88,
   "id": "145fc4d3",
   "metadata": {},
   "outputs": [
    {
     "data": {
      "text/plain": [
       "<AxesSubplot:xlabel='Segment'>"
      ]
     },
     "execution_count": 88,
     "metadata": {},
     "output_type": "execute_result"
    },
    {
     "data": {
      "image/png": "[encoded data removed]",
      "text/plain": [
       "<Figure size 1440x432 with 1 Axes>"
      ]
     },
     "metadata": {
      "needs_background": "light"
     },
     "output_type": "display_data"
    }
   ],
   "source": [
    "df_cross = pd.crosstab(df2['Segment'], df2['Merchant'])\n",
    "df_cross.plot(kind='bar',figsize=(20,6))"
   ]
  },
  {
   "cell_type": "code",
   "execution_count": 89,
   "id": "ef17220e",
   "metadata": {},
   "outputs": [
    {
     "data": {
      "text/plain": [
       "(1252, 6)"
      ]
     },
     "execution_count": 89,
     "metadata": {},
     "output_type": "execute_result"
    }
   ],
   "source": [
    "df1.shape"
   ]
  },
  {
   "cell_type": "code",
   "execution_count": 101,
   "id": "41587eab",
   "metadata": {},
   "outputs": [
    {
     "data": {
      "text/html": [
       "<div>\n",
       "<style scoped>\n",
       "    .dataframe tbody tr th:only-of-type {\n",
       "        vertical-align: middle;\n",
       "    }\n",
       "\n",
       "    .dataframe tbody tr th {\n",
       "        vertical-align: top;\n",
       "    }\n",
       "\n",
       "    .dataframe thead th {\n",
       "        text-align: right;\n",
       "    }\n",
       "</style>\n",
       "<table border=\"1\" class=\"dataframe\">\n",
       "  <thead>\n",
       "    <tr style=\"text-align: right;\">\n",
       "      <th></th>\n",
       "      <th>Merchant</th>\n",
       "      <th>Date</th>\n",
       "      <th>Product</th>\n",
       "      <th>Event</th>\n",
       "      <th>Count of events</th>\n",
       "      <th>Usd Amount</th>\n",
       "      <th>Segment</th>\n",
       "    </tr>\n",
       "  </thead>\n",
       "  <tbody>\n",
       "    <tr>\n",
       "      <th>0</th>\n",
       "      <td>282t1vpldi</td>\n",
       "      <td>2013-01-01</td>\n",
       "      <td>Basic API</td>\n",
       "      <td>Charge</td>\n",
       "      <td>33.0</td>\n",
       "      <td>329967.0</td>\n",
       "      <td>SaaS</td>\n",
       "    </tr>\n",
       "    <tr>\n",
       "      <th>1</th>\n",
       "      <td>282t1vpldi</td>\n",
       "      <td>2013-01-02</td>\n",
       "      <td>Basic API</td>\n",
       "      <td>Charge</td>\n",
       "      <td>17.0</td>\n",
       "      <td>169983.0</td>\n",
       "      <td>SaaS</td>\n",
       "    </tr>\n",
       "    <tr>\n",
       "      <th>2</th>\n",
       "      <td>282t1vpldi</td>\n",
       "      <td>2013-01-03</td>\n",
       "      <td>Basic API</td>\n",
       "      <td>Charge</td>\n",
       "      <td>20.0</td>\n",
       "      <td>199980.0</td>\n",
       "      <td>SaaS</td>\n",
       "    </tr>\n",
       "    <tr>\n",
       "      <th>3</th>\n",
       "      <td>282t1vpldi</td>\n",
       "      <td>2013-01-04</td>\n",
       "      <td>Basic API</td>\n",
       "      <td>Charge</td>\n",
       "      <td>21.0</td>\n",
       "      <td>209979.0</td>\n",
       "      <td>SaaS</td>\n",
       "    </tr>\n",
       "    <tr>\n",
       "      <th>4</th>\n",
       "      <td>282t1vpldi</td>\n",
       "      <td>2013-01-05</td>\n",
       "      <td>Recurring</td>\n",
       "      <td>Subscription.Charge</td>\n",
       "      <td>23.0</td>\n",
       "      <td>229977.0</td>\n",
       "      <td>SaaS</td>\n",
       "    </tr>\n",
       "  </tbody>\n",
       "</table>\n",
       "</div>"
      ],
      "text/plain": [
       "     Merchant       Date    Product                Event  Count of events  \\\n",
       "0  282t1vpldi 2013-01-01  Basic API               Charge             33.0   \n",
       "1  282t1vpldi 2013-01-02  Basic API               Charge             17.0   \n",
       "2  282t1vpldi 2013-01-03  Basic API               Charge             20.0   \n",
       "3  282t1vpldi 2013-01-04  Basic API               Charge             21.0   \n",
       "4  282t1vpldi 2013-01-05  Recurring  Subscription.Charge             23.0   \n",
       "\n",
       "   Usd Amount Segment  \n",
       "0    329967.0    SaaS  \n",
       "1    169983.0    SaaS  \n",
       "2    199980.0    SaaS  \n",
       "3    209979.0    SaaS  \n",
       "4    229977.0    SaaS  "
      ]
     },
     "execution_count": 101,
     "metadata": {},
     "output_type": "execute_result"
    }
   ],
   "source": [
    "#merge both data frames \n",
    "df = pd.merge(df1, df2, on='Merchant')\n",
    "df.head()"
   ]
  },
  {
   "cell_type": "markdown",
   "id": "2326bbcd",
   "metadata": {},
   "source": [
    "### How are each of Stripe’s products and segments performing and where are they headed?\n"
   ]
  },
  {
   "cell_type": "code",
   "execution_count": 94,
   "id": "1a6c2baf",
   "metadata": {},
   "outputs": [
    {
     "data": {
      "image/png": "[encoded data removed]",
      "text/plain": [
       "<Figure size 864x432 with 1 Axes>"
      ]
     },
     "metadata": {
      "needs_background": "light"
     },
     "output_type": "display_data"
    }
   ],
   "source": [
    "import matplotlib.pyplot as plt\n",
    "\n",
    "# Group the data by segment and calculate sum of revenue\n",
    "grouped_data = df.groupby(['Segment', 'Product'])['Usd Amount'].sum().reset_index()\n",
    "\n",
    "#create separate columns for each product\n",
    "pivoted_data = grouped_data.pivot(index='Segment', columns='Product', values='Usd Amount')\n",
    "\n",
    "# plot stacked bar chart\n",
    "pivoted_data.plot(kind='bar', stacked=True, figsize=(12,6))\n",
    "plt.title('Revenue of Stripe Products by Segment')\n",
    "plt.xlabel('Segment')\n",
    "plt.ylabel('Revenue (USD)')\n",
    "plt.show()"
   ]
  },
  {
   "cell_type": "markdown",
   "id": "f064afab",
   "metadata": {},
   "source": [
    "#### most of the transactions and revenue generated through platform segement and then second higher transaction from ecommerce store segment"
   ]
  },
  {
   "cell_type": "markdown",
   "id": "8f3b2ab5",
   "metadata": {},
   "source": [
    "### 2) Are there any issues with the products that we should address?\n"
   ]
  },
  {
   "cell_type": "code",
   "execution_count": 100,
   "id": "79948c1b",
   "metadata": {},
   "outputs": [
    {
     "data": {
      "image/png": "[encoded data removed]",
      "text/plain": [
       "<Figure size 864x432 with 1 Axes>"
      ]
     },
     "metadata": {
      "needs_background": "light"
     },
     "output_type": "display_data"
    }
   ],
   "source": [
    "# filter data for specific products\n",
    "product_data = df[df['Product'].isin(['Basic API', 'Recurring', 'Checkout'])]\n",
    "\n",
    "# group data by date and product, and sum up revenue\n",
    "grouped_data = product_data.groupby(['Date', 'Product'])['Usd Amount'].sum().reset_index()\n",
    "\n",
    "# pivot table to create separate columns for each product\n",
    "pivoted_data = grouped_data.pivot(index='Date', columns='Product', values='Usd Amount')\n",
    "\n",
    "# plot line chart\n",
    "pivoted_data.plot(figsize=(12,6))\n",
    "plt.title('Revenue of Stripe Products Over Time')\n",
    "plt.xlabel('Date')\n",
    "plt.ylabel('Revenue (USD)')\n",
    "plt.show()"
   ]
  },
  {
   "cell_type": "markdown",
   "id": "824f92f2",
   "metadata": {},
   "source": [
    "#### Merchant prefers basic api than recurring for payment. But we don't have any feed back or review why they are using basic api. so we can't say what are the issues."
   ]
  },
  {
   "cell_type": "markdown",
   "id": "7b09ea79",
   "metadata": {},
   "source": [
    "#### 3)Given more time and access to more data, what would you want to dig deeper on?"
   ]
  },
  {
   "cell_type": "markdown",
   "id": "9c724672",
   "metadata": {},
   "source": [
    "User behavior: If we have more data, we could gain a deeper understanding of how users interact with the recurring payments product. For example, we could look at how often users schedule recurring payments versus manually creating charges, and whether there are any patterns or trends.\n",
    "\n",
    "Customer satisfaction: We have to take customer review about recurring payment option. how users are satisfied with it whether it is good or not.\n",
    "\n",
    "Payment processing metrics: We can observe payment processing metrics such as successful payments, failed payments and refunds to identify any patterns or issues that may be impacting the product's performance.\n",
    "\n",
    "Competitive analysis: We could compare the performance of Stripe's recurring payments product to similar products offered by competitors to identify any areas where Stripe may be falling behind or where they excel."
   ]
  },
  {
   "cell_type": "markdown",
   "id": "2f35b1cf",
   "metadata": {},
   "source": [
    "#### 4) How should we prioritize development for different products, given our limited resources?"
   ]
  },
  {
   "cell_type": "markdown",
   "id": "c2a4c953",
   "metadata": {},
   "source": [
    "By observing the data the more revenue is generated through platform and then ecommerce and saas segment.\n",
    "We have to give priority for platform segment first.\n",
    "we have to give low priority for recurring payment option is used by less no of merchants."
   ]
  },
  {
   "cell_type": "code",
   "execution_count": null,
   "id": "cea4097d",
   "metadata": {},
   "outputs": [],
   "source": []
  }
 ],
 "metadata": {
  "colab": {
   "provenance": []
  },
  "kernelspec": {
   "display_name": "Python 3",
   "language": "python",
   "name": "python3"
  },
  "language_info": {
   "codemirror_mode": {
    "name": "ipython",
    "version": 3
   },
   "file_extension": ".py",
   "mimetype": "text/x-python",
   "name": "python",
   "nbconvert_exporter": "python",
   "pygments_lexer": "ipython3",
   "version": "3.8.8"
  }
 },
 "nbformat": 4,
 "nbformat_minor": 5
}
